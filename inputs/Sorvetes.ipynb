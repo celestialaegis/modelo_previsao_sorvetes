{
  "cells": [
    {
      "cell_type": "code",
      "source": [
        "from azure.identity import DefaultAzureCredential, InteractiveBrowserCredential\n",
        "from azure.ai.ml import MLClient\n",
        "\n",
        "try: \n",
        "    credential = DefaultAzureCredential\n",
        "    #check in given credential can get token seccessfully.\n",
        "    credential.get_token(\"https://manegement.azure.com/.default\")\n",
        "except:\n",
        "    # Fall Back to InteractiveBrowserCredential in case DefaultAzureCredential not work\n",
        "    credential = InteractiveBrowserCredential "
      ],
      "outputs": [],
      "execution_count": null,
      "metadata": {}
    },
    {
      "cell_type": "code",
      "source": [
        "# Get a handle to workspace\n",
        "ml_client = MLClient.from_config(credential=credential)"
      ],
      "outputs": [],
      "execution_count": null,
      "metadata": {}
    },
    {
      "cell_type": "code",
      "source": [
        "%%writefile src/sorvetes-training.py\n",
        "# import libraries\n",
        "\n",
        "import pandas as pd\n",
        "import numpy as np\n",
        "from sklearn.model_selection import train_test_split\n",
        "from sklearn.linear_model import LogisticRegression\n",
        "from sklearn.metrics import roc_auc_score\n",
        "from sklearn.metrics import roc_curve\n",
        "\n",
        "# load the sorvetes dataset\n",
        "print(\"Loading Data... \")\n",
        "sorvetes = pd.read_csv('sorvetes.csv')\n",
        "\n",
        "# separete features and labels\n",
        "\n",
        "X, y = sorvetes[['Temperatura']].values, sorvetes['Vendas'].values\n",
        "\n",
        "#split data into training set and test set\n",
        "\n",
        "X_train, X_test, y_train, y_test = train_test_split(X, y, test_size=0.20, random_state=0)\n",
        "\n",
        "#set regularization hyperparameter\n",
        "\n",
        "reg= 0.01\n",
        "\n",
        "#train a logistic regression model\n",
        "\n",
        "print('Training a logistic regression model with regularization rate of', reg) \n",
        "model = LogisticRegression(C=1/reg, solver = \"liblinear\").fit(X_train, y_train)\n",
        "\n",
        "#calculate accuracy\n",
        "\n",
        "y_hat = model.predict(X_test) \n",
        "acc = np.average(y_hat == y_test) \n",
        "print('Accuracy:', acc)\n",
        "\n",
        "#calculate NIC\n",
        "\n",
        "y_scores = model.predict_proba(X_test) \n",
        "auc = roc_auc_score(y_test,y_scores [:,1]) \n",
        "print('AUC: ' + str(auc))"
      ],
      "outputs": [],
      "execution_count": null,
      "metadata": {}
    }
  ],
  "metadata": {
    "kernelspec": {
      "display_name": "Python 3.10 - SDK v2",
      "language": "python",
      "name": "python310-sdkv2"
    },
    "language_info": {
      "codemirror_mode": {
        "name": "ipython",
        "version": 3
      },
      "file_extension": ".py",
      "mimetype": "text/x-python",
      "name": "python",
      "nbconvert_exporter": "python",
      "pygments_lexer": "ipython3",
      "version": "3.10.6"
    },
    "nteract": {
      "version": "nteract-front-end@1.0.0"
    }
  },
  "nbformat": 4,
  "nbformat_minor": 2
}